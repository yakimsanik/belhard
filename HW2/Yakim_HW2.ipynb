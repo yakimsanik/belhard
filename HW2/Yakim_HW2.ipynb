{
  "nbformat": 4,
  "nbformat_minor": 0,
  "metadata": {
    "colab": {
      "provenance": [],
      "mount_file_id": "1UqdQB2PpmUwOx4zBtZIQi7SEoUkyk_at",
      "authorship_tag": "ABX9TyNaxZOh09ePLNlWtYAi6tDu",
      "include_colab_link": true
    },
    "kernelspec": {
      "name": "python3",
      "display_name": "Python 3"
    },
    "language_info": {
      "name": "python"
    }
  },
  "cells": [
    {
      "cell_type": "markdown",
      "metadata": {
        "id": "view-in-github",
        "colab_type": "text"
      },
      "source": [
        "<a href=\"https://colab.research.google.com/github/yakimsanik/belhard/blob/master/Yakim_HW2.ipynb\" target=\"_parent\"><img src=\"https://colab.research.google.com/assets/colab-badge.svg\" alt=\"Open In Colab\"/></a>"
      ]
    },
    {
      "cell_type": "code",
      "source": [
        "import pandas as pd\n",
        "import numpy as np\n",
        "import requests\n",
        "import matplotlib.pyplot as plt\n",
        "import seaborn as sns\n",
        "\n"
      ],
      "metadata": {
        "id": "f08hGPZjfqDw",
        "collapsed": true
      },
      "execution_count": 12,
      "outputs": []
    },
    {
      "cell_type": "code",
      "source": [
        "# применим функцию read_csv() и посмотрим на первые  записи\n",
        "train = pd.read_csv('/content/drive/MyDrive/Project/Data Science/HW2/vgsales.csv')\n",
        "train.head(10)"
      ],
      "metadata": {
        "colab": {
          "base_uri": "https://localhost:8080/",
          "height": 1000
        },
        "id": "tM0IYQUWHA_F",
        "outputId": "6fe067df-4c7c-4127-b8ac-05ca1a2ad060"
      },
      "execution_count": 13,
      "outputs": [
        {
          "output_type": "execute_result",
          "data": {
            "text/plain": [
              "   Unnamed: 0  rank                                              title  \\\n",
              "0           0     1                           The Shawshank Redemption   \n",
              "1           1     2                                      The Godfather   \n",
              "2           2     3                                    The Dark Knight   \n",
              "3           3     4                              The Godfather Part II   \n",
              "4           4     5                                       12 Angry Men   \n",
              "5           5     6                                   Schindler's List   \n",
              "6           6     7      The Lord of the Rings: The Return of the King   \n",
              "7           7     8                                       Pulp Fiction   \n",
              "8           8     9  The Lord of the Rings: The Fellowship of the Ring   \n",
              "9           9    10                     The Good, the Bad and the Ugly   \n",
              "\n",
              "                                           fullTitle  year  \\\n",
              "0                    The Shawshank Redemption (1994)  1994   \n",
              "1                               The Godfather (1972)  1972   \n",
              "2                             The Dark Knight (2008)  2008   \n",
              "3                       The Godfather Part II (1974)  1974   \n",
              "4                                12 Angry Men (1957)  1957   \n",
              "5                            Schindler's List (1993)  1993   \n",
              "6  The Lord of the Rings: The Return of the King ...  2003   \n",
              "7                                Pulp Fiction (1994)  1994   \n",
              "8  The Lord of the Rings: The Fellowship of the R...  2001   \n",
              "9              The Good, the Bad and the Ugly (1966)  1966   \n",
              "\n",
              "                                                crew  imDbRating  imDbRating.1  \n",
              "0  Frank Darabont (dir.), Tim Robbins, Morgan Fre...         9.2           9.2  \n",
              "1  Francis Ford Coppola (dir.), Marlon Brando, Al...         9.2           9.2  \n",
              "2  Christopher Nolan (dir.), Christian Bale, Heat...         9.0           9.0  \n",
              "3  Francis Ford Coppola (dir.), Al Pacino, Robert...         9.0           9.0  \n",
              "4      Sidney Lumet (dir.), Henry Fonda, Lee J. Cobb         9.0           9.0  \n",
              "5  Steven Spielberg (dir.), Liam Neeson, Ralph Fi...         8.9           8.9  \n",
              "6  Peter Jackson (dir.), Elijah Wood, Viggo Morte...         8.9           8.9  \n",
              "7  Quentin Tarantino (dir.), John Travolta, Uma T...         8.8           8.8  \n",
              "8    Peter Jackson (dir.), Elijah Wood, Ian McKellen         8.8           8.8  \n",
              "9   Sergio Leone (dir.), Clint Eastwood, Eli Wallach         8.8           8.8  "
            ],
            "text/html": [
              "\n",
              "  <div id=\"df-47bbffd0-f36d-401b-80ab-1b74dee35961\" class=\"colab-df-container\">\n",
              "    <div>\n",
              "<style scoped>\n",
              "    .dataframe tbody tr th:only-of-type {\n",
              "        vertical-align: middle;\n",
              "    }\n",
              "\n",
              "    .dataframe tbody tr th {\n",
              "        vertical-align: top;\n",
              "    }\n",
              "\n",
              "    .dataframe thead th {\n",
              "        text-align: right;\n",
              "    }\n",
              "</style>\n",
              "<table border=\"1\" class=\"dataframe\">\n",
              "  <thead>\n",
              "    <tr style=\"text-align: right;\">\n",
              "      <th></th>\n",
              "      <th>Unnamed: 0</th>\n",
              "      <th>rank</th>\n",
              "      <th>title</th>\n",
              "      <th>fullTitle</th>\n",
              "      <th>year</th>\n",
              "      <th>crew</th>\n",
              "      <th>imDbRating</th>\n",
              "      <th>imDbRating.1</th>\n",
              "    </tr>\n",
              "  </thead>\n",
              "  <tbody>\n",
              "    <tr>\n",
              "      <th>0</th>\n",
              "      <td>0</td>\n",
              "      <td>1</td>\n",
              "      <td>The Shawshank Redemption</td>\n",
              "      <td>The Shawshank Redemption (1994)</td>\n",
              "      <td>1994</td>\n",
              "      <td>Frank Darabont (dir.), Tim Robbins, Morgan Fre...</td>\n",
              "      <td>9.2</td>\n",
              "      <td>9.2</td>\n",
              "    </tr>\n",
              "    <tr>\n",
              "      <th>1</th>\n",
              "      <td>1</td>\n",
              "      <td>2</td>\n",
              "      <td>The Godfather</td>\n",
              "      <td>The Godfather (1972)</td>\n",
              "      <td>1972</td>\n",
              "      <td>Francis Ford Coppola (dir.), Marlon Brando, Al...</td>\n",
              "      <td>9.2</td>\n",
              "      <td>9.2</td>\n",
              "    </tr>\n",
              "    <tr>\n",
              "      <th>2</th>\n",
              "      <td>2</td>\n",
              "      <td>3</td>\n",
              "      <td>The Dark Knight</td>\n",
              "      <td>The Dark Knight (2008)</td>\n",
              "      <td>2008</td>\n",
              "      <td>Christopher Nolan (dir.), Christian Bale, Heat...</td>\n",
              "      <td>9.0</td>\n",
              "      <td>9.0</td>\n",
              "    </tr>\n",
              "    <tr>\n",
              "      <th>3</th>\n",
              "      <td>3</td>\n",
              "      <td>4</td>\n",
              "      <td>The Godfather Part II</td>\n",
              "      <td>The Godfather Part II (1974)</td>\n",
              "      <td>1974</td>\n",
              "      <td>Francis Ford Coppola (dir.), Al Pacino, Robert...</td>\n",
              "      <td>9.0</td>\n",
              "      <td>9.0</td>\n",
              "    </tr>\n",
              "    <tr>\n",
              "      <th>4</th>\n",
              "      <td>4</td>\n",
              "      <td>5</td>\n",
              "      <td>12 Angry Men</td>\n",
              "      <td>12 Angry Men (1957)</td>\n",
              "      <td>1957</td>\n",
              "      <td>Sidney Lumet (dir.), Henry Fonda, Lee J. Cobb</td>\n",
              "      <td>9.0</td>\n",
              "      <td>9.0</td>\n",
              "    </tr>\n",
              "    <tr>\n",
              "      <th>5</th>\n",
              "      <td>5</td>\n",
              "      <td>6</td>\n",
              "      <td>Schindler's List</td>\n",
              "      <td>Schindler's List (1993)</td>\n",
              "      <td>1993</td>\n",
              "      <td>Steven Spielberg (dir.), Liam Neeson, Ralph Fi...</td>\n",
              "      <td>8.9</td>\n",
              "      <td>8.9</td>\n",
              "    </tr>\n",
              "    <tr>\n",
              "      <th>6</th>\n",
              "      <td>6</td>\n",
              "      <td>7</td>\n",
              "      <td>The Lord of the Rings: The Return of the King</td>\n",
              "      <td>The Lord of the Rings: The Return of the King ...</td>\n",
              "      <td>2003</td>\n",
              "      <td>Peter Jackson (dir.), Elijah Wood, Viggo Morte...</td>\n",
              "      <td>8.9</td>\n",
              "      <td>8.9</td>\n",
              "    </tr>\n",
              "    <tr>\n",
              "      <th>7</th>\n",
              "      <td>7</td>\n",
              "      <td>8</td>\n",
              "      <td>Pulp Fiction</td>\n",
              "      <td>Pulp Fiction (1994)</td>\n",
              "      <td>1994</td>\n",
              "      <td>Quentin Tarantino (dir.), John Travolta, Uma T...</td>\n",
              "      <td>8.8</td>\n",
              "      <td>8.8</td>\n",
              "    </tr>\n",
              "    <tr>\n",
              "      <th>8</th>\n",
              "      <td>8</td>\n",
              "      <td>9</td>\n",
              "      <td>The Lord of the Rings: The Fellowship of the Ring</td>\n",
              "      <td>The Lord of the Rings: The Fellowship of the R...</td>\n",
              "      <td>2001</td>\n",
              "      <td>Peter Jackson (dir.), Elijah Wood, Ian McKellen</td>\n",
              "      <td>8.8</td>\n",
              "      <td>8.8</td>\n",
              "    </tr>\n",
              "    <tr>\n",
              "      <th>9</th>\n",
              "      <td>9</td>\n",
              "      <td>10</td>\n",
              "      <td>The Good, the Bad and the Ugly</td>\n",
              "      <td>The Good, the Bad and the Ugly (1966)</td>\n",
              "      <td>1966</td>\n",
              "      <td>Sergio Leone (dir.), Clint Eastwood, Eli Wallach</td>\n",
              "      <td>8.8</td>\n",
              "      <td>8.8</td>\n",
              "    </tr>\n",
              "  </tbody>\n",
              "</table>\n",
              "</div>\n",
              "    <div class=\"colab-df-buttons\">\n",
              "\n",
              "  <div class=\"colab-df-container\">\n",
              "    <button class=\"colab-df-convert\" onclick=\"convertToInteractive('df-47bbffd0-f36d-401b-80ab-1b74dee35961')\"\n",
              "            title=\"Convert this dataframe to an interactive table.\"\n",
              "            style=\"display:none;\">\n",
              "\n",
              "  <svg xmlns=\"http://www.w3.org/2000/svg\" height=\"24px\" viewBox=\"0 -960 960 960\">\n",
              "    <path d=\"M120-120v-720h720v720H120Zm60-500h600v-160H180v160Zm220 220h160v-160H400v160Zm0 220h160v-160H400v160ZM180-400h160v-160H180v160Zm440 0h160v-160H620v160ZM180-180h160v-160H180v160Zm440 0h160v-160H620v160Z\"/>\n",
              "  </svg>\n",
              "    </button>\n",
              "\n",
              "  <style>\n",
              "    .colab-df-container {\n",
              "      display:flex;\n",
              "      gap: 12px;\n",
              "    }\n",
              "\n",
              "    .colab-df-convert {\n",
              "      background-color: #E8F0FE;\n",
              "      border: none;\n",
              "      border-radius: 50%;\n",
              "      cursor: pointer;\n",
              "      display: none;\n",
              "      fill: #1967D2;\n",
              "      height: 32px;\n",
              "      padding: 0 0 0 0;\n",
              "      width: 32px;\n",
              "    }\n",
              "\n",
              "    .colab-df-convert:hover {\n",
              "      background-color: #E2EBFA;\n",
              "      box-shadow: 0px 1px 2px rgba(60, 64, 67, 0.3), 0px 1px 3px 1px rgba(60, 64, 67, 0.15);\n",
              "      fill: #174EA6;\n",
              "    }\n",
              "\n",
              "    .colab-df-buttons div {\n",
              "      margin-bottom: 4px;\n",
              "    }\n",
              "\n",
              "    [theme=dark] .colab-df-convert {\n",
              "      background-color: #3B4455;\n",
              "      fill: #D2E3FC;\n",
              "    }\n",
              "\n",
              "    [theme=dark] .colab-df-convert:hover {\n",
              "      background-color: #434B5C;\n",
              "      box-shadow: 0px 1px 3px 1px rgba(0, 0, 0, 0.15);\n",
              "      filter: drop-shadow(0px 1px 2px rgba(0, 0, 0, 0.3));\n",
              "      fill: #FFFFFF;\n",
              "    }\n",
              "  </style>\n",
              "\n",
              "    <script>\n",
              "      const buttonEl =\n",
              "        document.querySelector('#df-47bbffd0-f36d-401b-80ab-1b74dee35961 button.colab-df-convert');\n",
              "      buttonEl.style.display =\n",
              "        google.colab.kernel.accessAllowed ? 'block' : 'none';\n",
              "\n",
              "      async function convertToInteractive(key) {\n",
              "        const element = document.querySelector('#df-47bbffd0-f36d-401b-80ab-1b74dee35961');\n",
              "        const dataTable =\n",
              "          await google.colab.kernel.invokeFunction('convertToInteractive',\n",
              "                                                    [key], {});\n",
              "        if (!dataTable) return;\n",
              "\n",
              "        const docLinkHtml = 'Like what you see? Visit the ' +\n",
              "          '<a target=\"_blank\" href=https://colab.research.google.com/notebooks/data_table.ipynb>data table notebook</a>'\n",
              "          + ' to learn more about interactive tables.';\n",
              "        element.innerHTML = '';\n",
              "        dataTable['output_type'] = 'display_data';\n",
              "        await google.colab.output.renderOutput(dataTable, element);\n",
              "        const docLink = document.createElement('div');\n",
              "        docLink.innerHTML = docLinkHtml;\n",
              "        element.appendChild(docLink);\n",
              "      }\n",
              "    </script>\n",
              "  </div>\n",
              "\n",
              "\n",
              "<div id=\"df-5b674159-866f-47b5-807d-ca5f9173bc0f\">\n",
              "  <button class=\"colab-df-quickchart\" onclick=\"quickchart('df-5b674159-866f-47b5-807d-ca5f9173bc0f')\"\n",
              "            title=\"Suggest charts\"\n",
              "            style=\"display:none;\">\n",
              "\n",
              "<svg xmlns=\"http://www.w3.org/2000/svg\" height=\"24px\"viewBox=\"0 0 24 24\"\n",
              "     width=\"24px\">\n",
              "    <g>\n",
              "        <path d=\"M19 3H5c-1.1 0-2 .9-2 2v14c0 1.1.9 2 2 2h14c1.1 0 2-.9 2-2V5c0-1.1-.9-2-2-2zM9 17H7v-7h2v7zm4 0h-2V7h2v10zm4 0h-2v-4h2v4z\"/>\n",
              "    </g>\n",
              "</svg>\n",
              "  </button>\n",
              "\n",
              "<style>\n",
              "  .colab-df-quickchart {\n",
              "      --bg-color: #E8F0FE;\n",
              "      --fill-color: #1967D2;\n",
              "      --hover-bg-color: #E2EBFA;\n",
              "      --hover-fill-color: #174EA6;\n",
              "      --disabled-fill-color: #AAA;\n",
              "      --disabled-bg-color: #DDD;\n",
              "  }\n",
              "\n",
              "  [theme=dark] .colab-df-quickchart {\n",
              "      --bg-color: #3B4455;\n",
              "      --fill-color: #D2E3FC;\n",
              "      --hover-bg-color: #434B5C;\n",
              "      --hover-fill-color: #FFFFFF;\n",
              "      --disabled-bg-color: #3B4455;\n",
              "      --disabled-fill-color: #666;\n",
              "  }\n",
              "\n",
              "  .colab-df-quickchart {\n",
              "    background-color: var(--bg-color);\n",
              "    border: none;\n",
              "    border-radius: 50%;\n",
              "    cursor: pointer;\n",
              "    display: none;\n",
              "    fill: var(--fill-color);\n",
              "    height: 32px;\n",
              "    padding: 0;\n",
              "    width: 32px;\n",
              "  }\n",
              "\n",
              "  .colab-df-quickchart:hover {\n",
              "    background-color: var(--hover-bg-color);\n",
              "    box-shadow: 0 1px 2px rgba(60, 64, 67, 0.3), 0 1px 3px 1px rgba(60, 64, 67, 0.15);\n",
              "    fill: var(--button-hover-fill-color);\n",
              "  }\n",
              "\n",
              "  .colab-df-quickchart-complete:disabled,\n",
              "  .colab-df-quickchart-complete:disabled:hover {\n",
              "    background-color: var(--disabled-bg-color);\n",
              "    fill: var(--disabled-fill-color);\n",
              "    box-shadow: none;\n",
              "  }\n",
              "\n",
              "  .colab-df-spinner {\n",
              "    border: 2px solid var(--fill-color);\n",
              "    border-color: transparent;\n",
              "    border-bottom-color: var(--fill-color);\n",
              "    animation:\n",
              "      spin 1s steps(1) infinite;\n",
              "  }\n",
              "\n",
              "  @keyframes spin {\n",
              "    0% {\n",
              "      border-color: transparent;\n",
              "      border-bottom-color: var(--fill-color);\n",
              "      border-left-color: var(--fill-color);\n",
              "    }\n",
              "    20% {\n",
              "      border-color: transparent;\n",
              "      border-left-color: var(--fill-color);\n",
              "      border-top-color: var(--fill-color);\n",
              "    }\n",
              "    30% {\n",
              "      border-color: transparent;\n",
              "      border-left-color: var(--fill-color);\n",
              "      border-top-color: var(--fill-color);\n",
              "      border-right-color: var(--fill-color);\n",
              "    }\n",
              "    40% {\n",
              "      border-color: transparent;\n",
              "      border-right-color: var(--fill-color);\n",
              "      border-top-color: var(--fill-color);\n",
              "    }\n",
              "    60% {\n",
              "      border-color: transparent;\n",
              "      border-right-color: var(--fill-color);\n",
              "    }\n",
              "    80% {\n",
              "      border-color: transparent;\n",
              "      border-right-color: var(--fill-color);\n",
              "      border-bottom-color: var(--fill-color);\n",
              "    }\n",
              "    90% {\n",
              "      border-color: transparent;\n",
              "      border-bottom-color: var(--fill-color);\n",
              "    }\n",
              "  }\n",
              "</style>\n",
              "\n",
              "  <script>\n",
              "    async function quickchart(key) {\n",
              "      const quickchartButtonEl =\n",
              "        document.querySelector('#' + key + ' button');\n",
              "      quickchartButtonEl.disabled = true;  // To prevent multiple clicks.\n",
              "      quickchartButtonEl.classList.add('colab-df-spinner');\n",
              "      try {\n",
              "        const charts = await google.colab.kernel.invokeFunction(\n",
              "            'suggestCharts', [key], {});\n",
              "      } catch (error) {\n",
              "        console.error('Error during call to suggestCharts:', error);\n",
              "      }\n",
              "      quickchartButtonEl.classList.remove('colab-df-spinner');\n",
              "      quickchartButtonEl.classList.add('colab-df-quickchart-complete');\n",
              "    }\n",
              "    (() => {\n",
              "      let quickchartButtonEl =\n",
              "        document.querySelector('#df-5b674159-866f-47b5-807d-ca5f9173bc0f button');\n",
              "      quickchartButtonEl.style.display =\n",
              "        google.colab.kernel.accessAllowed ? 'block' : 'none';\n",
              "    })();\n",
              "  </script>\n",
              "</div>\n",
              "    </div>\n",
              "  </div>\n"
            ],
            "application/vnd.google.colaboratory.intrinsic+json": {
              "type": "dataframe",
              "variable_name": "train",
              "summary": "{\n  \"name\": \"train\",\n  \"rows\": 250,\n  \"fields\": [\n    {\n      \"column\": \"Unnamed: 0\",\n      \"properties\": {\n        \"dtype\": \"number\",\n        \"std\": 72,\n        \"min\": 0,\n        \"max\": 249,\n        \"num_unique_values\": 250,\n        \"samples\": [\n          142,\n          6,\n          97\n        ],\n        \"semantic_type\": \"\",\n        \"description\": \"\"\n      }\n    },\n    {\n      \"column\": \"rank\",\n      \"properties\": {\n        \"dtype\": \"number\",\n        \"std\": 72,\n        \"min\": 1,\n        \"max\": 250,\n        \"num_unique_values\": 250,\n        \"samples\": [\n          143,\n          7,\n          98\n        ],\n        \"semantic_type\": \"\",\n        \"description\": \"\"\n      }\n    },\n    {\n      \"column\": \"title\",\n      \"properties\": {\n        \"dtype\": \"string\",\n        \"num_unique_values\": 250,\n        \"samples\": [\n          \"A Beautiful Mind\",\n          \"The Lord of the Rings: The Return of the King\",\n          \"North by Northwest\"\n        ],\n        \"semantic_type\": \"\",\n        \"description\": \"\"\n      }\n    },\n    {\n      \"column\": \"fullTitle\",\n      \"properties\": {\n        \"dtype\": \"string\",\n        \"num_unique_values\": 250,\n        \"samples\": [\n          \"A Beautiful Mind (2001)\",\n          \"The Lord of the Rings: The Return of the King (2003)\",\n          \"North by Northwest (1959)\"\n        ],\n        \"semantic_type\": \"\",\n        \"description\": \"\"\n      }\n    },\n    {\n      \"column\": \"year\",\n      \"properties\": {\n        \"dtype\": \"number\",\n        \"std\": 25,\n        \"min\": 1921,\n        \"max\": 2022,\n        \"num_unique_values\": 86,\n        \"samples\": [\n          1996,\n          1994,\n          1961\n        ],\n        \"semantic_type\": \"\",\n        \"description\": \"\"\n      }\n    },\n    {\n      \"column\": \"crew\",\n      \"properties\": {\n        \"dtype\": \"string\",\n        \"num_unique_values\": 246,\n        \"samples\": [\n          \"Luc Besson (dir.), Jean Reno, Gary Oldman\",\n          \"Peter Jackson (dir.), Elijah Wood, Viggo Mortensen\",\n          \"David Fincher (dir.), Ben Affleck, Rosamund Pike\"\n        ],\n        \"semantic_type\": \"\",\n        \"description\": \"\"\n      }\n    },\n    {\n      \"column\": \"imDbRating\",\n      \"properties\": {\n        \"dtype\": \"number\",\n        \"std\": 0.2359664396531218,\n        \"min\": 8.0,\n        \"max\": 9.2,\n        \"num_unique_values\": 12,\n        \"samples\": [\n          8.1,\n          8.2,\n          9.2\n        ],\n        \"semantic_type\": \"\",\n        \"description\": \"\"\n      }\n    },\n    {\n      \"column\": \"imDbRating.1\",\n      \"properties\": {\n        \"dtype\": \"number\",\n        \"std\": 0.2359664396531218,\n        \"min\": 8.0,\n        \"max\": 9.2,\n        \"num_unique_values\": 12,\n        \"samples\": [\n          8.1,\n          8.2,\n          9.2\n        ],\n        \"semantic_type\": \"\",\n        \"description\": \"\"\n      }\n    }\n  ]\n}"
            }
          },
          "metadata": {},
          "execution_count": 13
        }
      ]
    },
    {
      "cell_type": "code",
      "source": [
        "df = pd.read_csv('/content/drive/MyDrive/Project/Data Science/HW2/vgsales.csv')\n",
        "print(df)\n"
      ],
      "metadata": {
        "colab": {
          "base_uri": "https://localhost:8080/"
        },
        "id": "gzgXEJe7RAJs",
        "outputId": "af223314-ea1d-40a0-da9f-67b51a1232d3"
      },
      "execution_count": 17,
      "outputs": [
        {
          "output_type": "stream",
          "name": "stdout",
          "text": [
            "     Unnamed: 0  rank                     title  \\\n",
            "0             0     1  The Shawshank Redemption   \n",
            "1             1     2             The Godfather   \n",
            "2             2     3           The Dark Knight   \n",
            "3             3     4     The Godfather Part II   \n",
            "4             4     5              12 Angry Men   \n",
            "..          ...   ...                       ...   \n",
            "245         245   246               Dersu Uzala   \n",
            "246         246   247                  The Help   \n",
            "247         247   248                   Aladdin   \n",
            "248         248   249                    Gandhi   \n",
            "249         249   250        Dances with Wolves   \n",
            "\n",
            "                           fullTitle  year  \\\n",
            "0    The Shawshank Redemption (1994)  1994   \n",
            "1               The Godfather (1972)  1972   \n",
            "2             The Dark Knight (2008)  2008   \n",
            "3       The Godfather Part II (1974)  1974   \n",
            "4                12 Angry Men (1957)  1957   \n",
            "..                               ...   ...   \n",
            "245               Dersu Uzala (1975)  1975   \n",
            "246                  The Help (2011)  2011   \n",
            "247                   Aladdin (1992)  1992   \n",
            "248                    Gandhi (1982)  1982   \n",
            "249        Dances with Wolves (1990)  1990   \n",
            "\n",
            "                                                  crew  imDbRating  \\\n",
            "0    Frank Darabont (dir.), Tim Robbins, Morgan Fre...         9.2   \n",
            "1    Francis Ford Coppola (dir.), Marlon Brando, Al...         9.2   \n",
            "2    Christopher Nolan (dir.), Christian Bale, Heat...         9.0   \n",
            "3    Francis Ford Coppola (dir.), Al Pacino, Robert...         9.0   \n",
            "4        Sidney Lumet (dir.), Henry Fonda, Lee J. Cobb         9.0   \n",
            "..                                                 ...         ...   \n",
            "245  Akira Kurosawa (dir.), Maksim Munzuk, Yuriy So...         8.0   \n",
            "246        Tate Taylor (dir.), Viola Davis, Emma Stone         8.0   \n",
            "247  Ron Clements (dir.), Scott Weinger, Robin Will...         8.0   \n",
            "248  Richard Attenborough (dir.), Ben Kingsley, Joh...         8.0   \n",
            "249  Kevin Costner (dir.), Kevin Costner, Mary McDo...         8.0   \n",
            "\n",
            "     imDbRating.1  \n",
            "0             9.2  \n",
            "1             9.2  \n",
            "2             9.0  \n",
            "3             9.0  \n",
            "4             9.0  \n",
            "..            ...  \n",
            "245           8.0  \n",
            "246           8.0  \n",
            "247           8.0  \n",
            "248           8.0  \n",
            "249           8.0  \n",
            "\n",
            "[250 rows x 8 columns]\n"
          ]
        }
      ]
    },
    {
      "cell_type": "code",
      "source": [
        "# Загрузка данных\n",
        "file_path = \"/content/drive/MyDrive/Project/Data Science/HW2/vgsales.csv\"  # укажите путь к вашему CSV-файлу\n",
        "df = pd.read_csv(file_path)\n",
        "\n",
        "# Вывод первых 5 строк\n",
        "print(df.head())"
      ],
      "metadata": {
        "colab": {
          "base_uri": "https://localhost:8080/"
        },
        "id": "zFY0HqEWjwiy",
        "outputId": "7511528c-fe73-49e6-b18e-b85b55ab500e"
      },
      "execution_count": 19,
      "outputs": [
        {
          "output_type": "stream",
          "name": "stdout",
          "text": [
            "   Unnamed: 0  rank                     title  \\\n",
            "0           0     1  The Shawshank Redemption   \n",
            "1           1     2             The Godfather   \n",
            "2           2     3           The Dark Knight   \n",
            "3           3     4     The Godfather Part II   \n",
            "4           4     5              12 Angry Men   \n",
            "\n",
            "                         fullTitle  year  \\\n",
            "0  The Shawshank Redemption (1994)  1994   \n",
            "1             The Godfather (1972)  1972   \n",
            "2           The Dark Knight (2008)  2008   \n",
            "3     The Godfather Part II (1974)  1974   \n",
            "4              12 Angry Men (1957)  1957   \n",
            "\n",
            "                                                crew  imDbRating  imDbRating.1  \n",
            "0  Frank Darabont (dir.), Tim Robbins, Morgan Fre...         9.2           9.2  \n",
            "1  Francis Ford Coppola (dir.), Marlon Brando, Al...         9.2           9.2  \n",
            "2  Christopher Nolan (dir.), Christian Bale, Heat...         9.0           9.0  \n",
            "3  Francis Ford Coppola (dir.), Al Pacino, Robert...         9.0           9.0  \n",
            "4      Sidney Lumet (dir.), Henry Fonda, Lee J. Cobb         9.0           9.0  \n"
          ]
        }
      ]
    },
    {
      "cell_type": "markdown",
      "source": [
        "## предобработка данных"
      ],
      "metadata": {
        "id": "6eN9dLoalL_y"
      }
    },
    {
      "cell_type": "code",
      "source": [
        "def load_csv(file_path: str) -> pd.DataFrame:\n",
        "    \"\"\"Загрузка данных из CSV-файла.\"\"\"\n",
        "    return pd.read_csv(file_path)\n"
      ],
      "metadata": {
        "id": "rjlMzrzjihcl"
      },
      "execution_count": 20,
      "outputs": []
    },
    {
      "cell_type": "code",
      "source": [
        "def check_missing_values(df: pd.DataFrame) -> pd.DataFrame:\n",
        "    \"\"\"Проверка на пропущенные значения.\"\"\"\n",
        "    return df.isnull().sum()\n"
      ],
      "metadata": {
        "id": "7xHX_3Rzirw0"
      },
      "execution_count": 21,
      "outputs": []
    },
    {
      "cell_type": "code",
      "source": [
        "# Проверка пропущенных значений\n",
        "missing_values = check_missing_values(df)\n",
        "# Вывод результата\n",
        "print(missing_values)"
      ],
      "metadata": {
        "colab": {
          "base_uri": "https://localhost:8080/"
        },
        "id": "wn2KcmKFjKp1",
        "outputId": "97a8a43d-a667-4f35-ee2c-a03ca716a4f2"
      },
      "execution_count": 22,
      "outputs": [
        {
          "output_type": "stream",
          "name": "stdout",
          "text": [
            "Unnamed: 0      0\n",
            "rank            0\n",
            "title           0\n",
            "fullTitle       0\n",
            "year            0\n",
            "crew            0\n",
            "imDbRating      0\n",
            "imDbRating.1    0\n",
            "dtype: int64\n"
          ]
        }
      ]
    },
    {
      "cell_type": "code",
      "source": [
        "def fill_missing(df: pd.DataFrame, strategy: str = 'mean', value=None) -> pd.DataFrame:\n",
        "    \"\"\"Заполнение пропущенных значений.\"\"\"\n",
        "    if strategy == 'mean':\n",
        "        return df.fillna(df.mean())\n",
        "    elif strategy == 'median':\n",
        "        return df.fillna(df.median())\n",
        "    elif strategy == 'value' and value is not None:\n",
        "        return df.fillna(value)\n",
        "    else:\n",
        "        return df\n"
      ],
      "metadata": {
        "id": "Le2iGYzFi0--"
      },
      "execution_count": 23,
      "outputs": []
    },
    {
      "cell_type": "code",
      "source": [
        "def remove_duplicates(df: pd.DataFrame) -> pd.DataFrame:\n",
        "    \"\"\"Удаление дубликатов.\"\"\"\n",
        "    return df.drop_duplicates()\n"
      ],
      "metadata": {
        "id": "0XXmNOkgk-c1"
      },
      "execution_count": 24,
      "outputs": []
    },
    {
      "cell_type": "code",
      "source": [
        "def normalize_data(df: pd.DataFrame, columns: list) -> pd.DataFrame:\n",
        "    \"\"\"Нормализация данных (Min-Max).\"\"\"\n",
        "    for col in columns:\n",
        "        df[col] = (df[col] - df[col].min()) / (df[col].max() - df[col].min())\n",
        "    return df\n",
        "\n",
        "def convert_to_datetime(df: pd.DataFrame, columns: list) -> pd.DataFrame:\n",
        "    \"\"\"Конвертация столбцов в datetime.\"\"\"\n",
        "    for col in columns:\n",
        "        df[col] = pd.to_datetime(df[col])\n",
        "    return df"
      ],
      "metadata": {
        "id": "i4abBAfalo1O"
      },
      "execution_count": 25,
      "outputs": []
    },
    {
      "cell_type": "markdown",
      "source": [
        "# визуализация из файла data_visualization.py"
      ],
      "metadata": {
        "id": "ZTKtVMrJm9sS"
      }
    },
    {
      "cell_type": "code",
      "source": [
        "%cd sample_data"
      ],
      "metadata": {
        "colab": {
          "base_uri": "https://localhost:8080/"
        },
        "id": "ERpwG5tiusi3",
        "outputId": "24dcebb3-0565-4518-81d9-4383ba30c72b"
      },
      "execution_count": 3,
      "outputs": [
        {
          "output_type": "stream",
          "name": "stdout",
          "text": [
            "/content/sample_data\n"
          ]
        }
      ]
    },
    {
      "cell_type": "code",
      "source": [
        "!ls"
      ],
      "metadata": {
        "colab": {
          "base_uri": "https://localhost:8080/"
        },
        "id": "u_CcWLZxuwLN",
        "outputId": "20e43817-955f-4a93-85db-ecbc7da10574"
      },
      "execution_count": 4,
      "outputs": [
        {
          "output_type": "stream",
          "name": "stdout",
          "text": [
            "anscombe.json\t\t     california_housing_train.csv  mnist_train_small.csv\n",
            "california_housing_test.csv  mnist_test.csv\t\t   README.md\n"
          ]
        }
      ]
    },
    {
      "cell_type": "code",
      "source": [
        "from google.colab import files\n",
        "import pandas as pd\n",
        "\n",
        "\n",
        "\n",
        "df = pd.read_csv('/content/drive/MyDrive/Project/Data Science/HW2/vgsales.csv')"
      ],
      "metadata": {
        "id": "1PFJSdVR006i"
      },
      "execution_count": 26,
      "outputs": []
    },
    {
      "cell_type": "code",
      "source": [
        "!pip install matplotlib seaborn pandas"
      ],
      "metadata": {
        "colab": {
          "base_uri": "https://localhost:8080/"
        },
        "id": "LGaevOmwoYj9",
        "outputId": "dadee2fe-7787-4be3-e19d-4d3381906998"
      },
      "execution_count": 34,
      "outputs": [
        {
          "output_type": "stream",
          "name": "stdout",
          "text": [
            "Requirement already satisfied: matplotlib in /usr/local/lib/python3.11/dist-packages (3.10.0)\n",
            "Requirement already satisfied: seaborn in /usr/local/lib/python3.11/dist-packages (0.13.2)\n",
            "Requirement already satisfied: pandas in /usr/local/lib/python3.11/dist-packages (2.2.2)\n",
            "Requirement already satisfied: contourpy>=1.0.1 in /usr/local/lib/python3.11/dist-packages (from matplotlib) (1.3.1)\n",
            "Requirement already satisfied: cycler>=0.10 in /usr/local/lib/python3.11/dist-packages (from matplotlib) (0.12.1)\n",
            "Requirement already satisfied: fonttools>=4.22.0 in /usr/local/lib/python3.11/dist-packages (from matplotlib) (4.56.0)\n",
            "Requirement already satisfied: kiwisolver>=1.3.1 in /usr/local/lib/python3.11/dist-packages (from matplotlib) (1.4.8)\n",
            "Requirement already satisfied: numpy>=1.23 in /usr/local/lib/python3.11/dist-packages (from matplotlib) (2.0.2)\n",
            "Requirement already satisfied: packaging>=20.0 in /usr/local/lib/python3.11/dist-packages (from matplotlib) (24.2)\n",
            "Requirement already satisfied: pillow>=8 in /usr/local/lib/python3.11/dist-packages (from matplotlib) (11.1.0)\n",
            "Requirement already satisfied: pyparsing>=2.3.1 in /usr/local/lib/python3.11/dist-packages (from matplotlib) (3.2.3)\n",
            "Requirement already satisfied: python-dateutil>=2.7 in /usr/local/lib/python3.11/dist-packages (from matplotlib) (2.8.2)\n",
            "Requirement already satisfied: pytz>=2020.1 in /usr/local/lib/python3.11/dist-packages (from pandas) (2025.2)\n",
            "Requirement already satisfied: tzdata>=2022.7 in /usr/local/lib/python3.11/dist-packages (from pandas) (2025.2)\n",
            "Requirement already satisfied: six>=1.5 in /usr/local/lib/python3.11/dist-packages (from python-dateutil>=2.7->matplotlib) (1.17.0)\n"
          ]
        }
      ]
    },
    {
      "cell_type": "code",
      "source": [
        "!cp /content/drive/MyDrive/Project/Data\\ Science/HW2/data_visualization.py /content"
      ],
      "metadata": {
        "id": "l7Gr0Lhe8s00"
      },
      "execution_count": 79,
      "outputs": []
    },
    {
      "cell_type": "code",
      "source": [
        "!ls"
      ],
      "metadata": {
        "colab": {
          "base_uri": "https://localhost:8080/"
        },
        "id": "9XzLWl8a9glm",
        "outputId": "197c1f24-0142-46cd-f502-699bf8564696"
      },
      "execution_count": 82,
      "outputs": [
        {
          "output_type": "stream",
          "name": "stdout",
          "text": [
            "anscombe.json\t\t     california_housing_train.csv  mnist_test.csv\t  __pycache__\n",
            "california_housing_test.csv  data_visualization.py\t   mnist_train_small.csv  README.md\n"
          ]
        }
      ]
    },
    {
      "cell_type": "code",
      "source": [
        "import pandas as pd\n",
        "from data_visualization import DataVisualizer\n",
        "\n",
        "# Загрузка данных\n",
        "df = pd.read_csv('/content/drive/MyDrive/Project/Data Science/HW2/vgsales.csv')  # Файл должен быть загружен в Colab\n",
        "print(df.head())\n",
        "\n",
        "# Инициализация визуализатора\n",
        "visualizer = DataVisualizer(df)"
      ],
      "metadata": {
        "colab": {
          "base_uri": "https://localhost:8080/"
        },
        "id": "9bYC_Dn2z8I0",
        "outputId": "bb07409b-9fb7-4132-eb25-c29b1907e359"
      },
      "execution_count": 84,
      "outputs": [
        {
          "output_type": "stream",
          "name": "stdout",
          "text": [
            "   Unnamed: 0  rank                     title  \\\n",
            "0           0     1  The Shawshank Redemption   \n",
            "1           1     2             The Godfather   \n",
            "2           2     3           The Dark Knight   \n",
            "3           3     4     The Godfather Part II   \n",
            "4           4     5              12 Angry Men   \n",
            "\n",
            "                         fullTitle  year  \\\n",
            "0  The Shawshank Redemption (1994)  1994   \n",
            "1             The Godfather (1972)  1972   \n",
            "2           The Dark Knight (2008)  2008   \n",
            "3     The Godfather Part II (1974)  1974   \n",
            "4              12 Angry Men (1957)  1957   \n",
            "\n",
            "                                                crew  imDbRating  imDbRating.1  \n",
            "0  Frank Darabont (dir.), Tim Robbins, Morgan Fre...         9.2           9.2  \n",
            "1  Francis Ford Coppola (dir.), Marlon Brando, Al...         9.2           9.2  \n",
            "2  Christopher Nolan (dir.), Christian Bale, Heat...         9.0           9.0  \n",
            "3  Francis Ford Coppola (dir.), Al Pacino, Robert...         9.0           9.0  \n",
            "4      Sidney Lumet (dir.), Henry Fonda, Lee J. Cobb         9.0           9.0  \n"
          ]
        }
      ]
    },
    {
      "cell_type": "code",
      "source": [
        "visualizer.add_histogram('imDbRating', bins=20, title='Распределение рейтингов IMDb')"
      ],
      "metadata": {
        "colab": {
          "base_uri": "https://localhost:8080/",
          "height": 927
        },
        "id": "FbHdeM_itenQ",
        "outputId": "3eccdc42-f66e-4f37-80f1-66f51dc3f967"
      },
      "execution_count": 74,
      "outputs": [
        {
          "output_type": "execute_result",
          "data": {
            "text/plain": [
              "<Figure size 640x480 with 1 Axes>"
            ],
            "image/png": "[encoded data removed]"
          },
          "metadata": {},
          "execution_count": 74
        },
        {
          "output_type": "display_data",
          "data": {
            "text/plain": [
              "<Figure size 640x480 with 1 Axes>"
            ],
            "image/png": "[encoded data removed]"
          },
          "metadata": {}
        }
      ]
    },
    {
      "cell_type": "code",
      "source": [
        "# Сортируем по рейтингу и берем топ-10\n",
        "top_movies = df.sort_values('imDbRating', ascending=False).head(10)\n",
        "\n",
        "# Линейный график для топ-10\n",
        "visualizer_line = DataVisualizer(top_movies)\n",
        "visualizer_line.add_line_plot('title', 'imDbRating', title='Топ-10 фильмов по рейтингу IMDb')"
      ],
      "metadata": {
        "colab": {
          "base_uri": "https://localhost:8080/",
          "height": 901
        },
        "id": "rZ49BgmduFhk",
        "outputId": "7c4a8326-ea1c-4599-ac33-bd9b4c15c49f"
      },
      "execution_count": 61,
      "outputs": [
        {
          "output_type": "execute_result",
          "data": {
            "text/plain": [
              "<Figure size 640x480 with 1 Axes>"
            ],
            "image/png": "[encoded data removed]"
          },
          "metadata": {},
          "execution_count": 61
        },
        {
          "output_type": "display_data",
          "data": {
            "text/plain": [
              "<Figure size 640x480 with 1 Axes>"
            ],
            "image/png": "[encoded data removed]"
          },
          "metadata": {}
        }
      ]
    },
    {
      "cell_type": "markdown",
      "source": [],
      "metadata": {
        "id": "TKXBQxv5uFXf"
      }
    }
  ]
}
