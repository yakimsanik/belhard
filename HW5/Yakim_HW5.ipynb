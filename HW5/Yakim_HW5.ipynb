{
  "nbformat": 4,
  "nbformat_minor": 0,
  "metadata": {
    "colab": {
      "provenance": [],
      "mount_file_id": "1om-UA35IhUWzL0rh-S2MABkBXIy8vz6V",
      "authorship_tag": "ABX9TyMSniX1UVRZ1oEmgDeBEgU9",
      "include_colab_link": true
    },
    "kernelspec": {
      "name": "python3",
      "display_name": "Python 3"
    },
    "language_info": {
      "name": "python"
    }
  },
  "cells": [
    {
      "cell_type": "markdown",
      "metadata": {
        "id": "view-in-github",
        "colab_type": "text"
      },
      "source": [
        "<a href=\"https://colab.research.google.com/github/yakimsanik/belhard/blob/master/HW5/Yakim_HW5.ipynb\" target=\"_parent\"><img src=\"https://colab.research.google.com/assets/colab-badge.svg\" alt=\"Open In Colab\"/></a>"
      ]
    },
    {
      "cell_type": "code",
      "source": [
        "pip install catboost"
      ],
      "metadata": {
        "colab": {
          "base_uri": "https://localhost:8080/"
        },
        "id": "MgjnVe7rg9wg",
        "outputId": "ee48fb19-d099-488f-a2bd-0a1089f03ad5"
      },
      "execution_count": 15,
      "outputs": [
        {
          "output_type": "stream",
          "name": "stdout",
          "text": [
            "Requirement already satisfied: catboost in /usr/local/lib/python3.11/dist-packages (1.2.8)\n",
            "Requirement already satisfied: graphviz in /usr/local/lib/python3.11/dist-packages (from catboost) (0.20.3)\n",
            "Requirement already satisfied: matplotlib in /usr/local/lib/python3.11/dist-packages (from catboost) (3.10.0)\n",
            "Requirement already satisfied: numpy<3.0,>=1.16.0 in /usr/local/lib/python3.11/dist-packages (from catboost) (2.0.2)\n",
            "Requirement already satisfied: pandas>=0.24 in /usr/local/lib/python3.11/dist-packages (from catboost) (2.2.2)\n",
            "Requirement already satisfied: scipy in /usr/local/lib/python3.11/dist-packages (from catboost) (1.14.1)\n",
            "Requirement already satisfied: plotly in /usr/local/lib/python3.11/dist-packages (from catboost) (5.24.1)\n",
            "Requirement already satisfied: six in /usr/local/lib/python3.11/dist-packages (from catboost) (1.17.0)\n",
            "Requirement already satisfied: python-dateutil>=2.8.2 in /usr/local/lib/python3.11/dist-packages (from pandas>=0.24->catboost) (2.8.2)\n",
            "Requirement already satisfied: pytz>=2020.1 in /usr/local/lib/python3.11/dist-packages (from pandas>=0.24->catboost) (2025.2)\n",
            "Requirement already satisfied: tzdata>=2022.7 in /usr/local/lib/python3.11/dist-packages (from pandas>=0.24->catboost) (2025.2)\n",
            "Requirement already satisfied: contourpy>=1.0.1 in /usr/local/lib/python3.11/dist-packages (from matplotlib->catboost) (1.3.2)\n",
            "Requirement already satisfied: cycler>=0.10 in /usr/local/lib/python3.11/dist-packages (from matplotlib->catboost) (0.12.1)\n",
            "Requirement already satisfied: fonttools>=4.22.0 in /usr/local/lib/python3.11/dist-packages (from matplotlib->catboost) (4.57.0)\n",
            "Requirement already satisfied: kiwisolver>=1.3.1 in /usr/local/lib/python3.11/dist-packages (from matplotlib->catboost) (1.4.8)\n",
            "Requirement already satisfied: packaging>=20.0 in /usr/local/lib/python3.11/dist-packages (from matplotlib->catboost) (24.2)\n",
            "Requirement already satisfied: pillow>=8 in /usr/local/lib/python3.11/dist-packages (from matplotlib->catboost) (11.1.0)\n",
            "Requirement already satisfied: pyparsing>=2.3.1 in /usr/local/lib/python3.11/dist-packages (from matplotlib->catboost) (3.2.3)\n",
            "Requirement already satisfied: tenacity>=6.2.0 in /usr/local/lib/python3.11/dist-packages (from plotly->catboost) (9.1.2)\n"
          ]
        }
      ]
    },
    {
      "cell_type": "code",
      "execution_count": 2,
      "metadata": {
        "id": "JAn2CR8BeOKy"
      },
      "outputs": [],
      "source": [
        "import pandas as pd\n",
        "import numpy as np\n",
        "import re\n",
        "from sklearn.model_selection import train_test_split\n",
        "from sklearn.preprocessing import StandardScaler, OneHotEncoder\n",
        "from sklearn.compose import ColumnTransformer\n",
        "from sklearn.pipeline import Pipeline\n",
        "from sklearn.impute import SimpleImputer\n",
        "from sklearn.metrics import mean_squared_error, r2_score\n",
        "from sklearn.ensemble import GradientBoostingRegressor, RandomForestRegressor, ExtraTreesRegressor, AdaBoostRegressor\n",
        "from sklearn.linear_model import LinearRegression, Lasso, Ridge, BayesianRidge, HuberRegressor, ElasticNet, PassiveAggressiveRegressor, OrthogonalMatchingPursuit\n",
        "from sklearn.tree import DecisionTreeRegressor\n",
        "from sklearn.neighbors import KNeighborsRegressor\n",
        "from sklearn.dummy import DummyRegressor\n",
        "from lightgbm import LGBMRegressor\n",
        "from xgboost import XGBRegressor\n",
        "from catboost import CatBoostRegressor\n",
        "from sklearn.ensemble import VotingRegressor\n",
        "import warnings\n",
        "warnings.filterwarnings('ignore')"
      ]
    },
    {
      "cell_type": "code",
      "source": [
        "# Загрузка датасета\n",
        "shark_attacks = pd.read_csv('/content/drive/MyDrive/Project/Data Science/HW5/global_shark_attacks.csv', encoding='latin1')"
      ],
      "metadata": {
        "id": "1w_XreQGhIYH"
      },
      "execution_count": 3,
      "outputs": []
    },
    {
      "cell_type": "code",
      "source": [
        "# Предварительный просмотр данных\n",
        "print(shark_attacks.head())\n",
        "print(\"\\nИнформация о датасете:\")\n",
        "print(shark_attacks.info())\n",
        "print(\"\\nОписательная статистика:\")\n",
        "print(shark_attacks.describe(include='all'))"
      ],
      "metadata": {
        "colab": {
          "base_uri": "https://localhost:8080/"
        },
        "id": "3UjYKALei-t6",
        "outputId": "63b91c02-a90c-4f5c-aa2d-c5fba29f3d44"
      },
      "execution_count": 6,
      "outputs": [
        {
          "output_type": "stream",
          "name": "stdout",
          "text": [
            "         date    year        type    country                area  \\\n",
            "0  2023-05-13  2023.0  Unprovoked  AUSTRALIA     South Australia   \n",
            "1  2023-04-29  2023.0  Unprovoked  AUSTRALIA   Western Australia   \n",
            "2  2022-10-07  2022.0  Unprovoked  AUSTRALIA  Western  Australia   \n",
            "3  2021-10-04  2021.0  Unprovoked        USA             Florida   \n",
            "4  2021-10-03  2021.0  Unprovoked        USA             Florida   \n",
            "\n",
            "                                   location      activity                name  \\\n",
            "0                                  Elliston       Surfing    Simon Baccanello   \n",
            "1                      Yallingup, Busselton      Swimming                male   \n",
            "2                              Port Hedland  Spearfishing         Robbie Peck   \n",
            "3  Fort Pierce State Park, St. Lucie County       Surfing  Truman Van Patrick   \n",
            "4               Jensen Beach, Martin County      Swimming                male   \n",
            "\n",
            "  sex   age fatal_y_n   time      species  \n",
            "0   M    46         Y  10h10  White shark  \n",
            "1   M   NaN         N  11h20     1m shark  \n",
            "2   M    38         N  11h30   Bull shark  \n",
            "3   M  25.0         N    NaN          NaN  \n",
            "4   M   NaN         N  12h00          NaN  \n",
            "\n",
            "Информация о датасете:\n",
            "<class 'pandas.core.frame.DataFrame'>\n",
            "RangeIndex: 6890 entries, 0 to 6889\n",
            "Data columns (total 13 columns):\n",
            " #   Column     Non-Null Count  Dtype  \n",
            "---  ------     --------------  -----  \n",
            " 0   date       6587 non-null   object \n",
            " 1   year       6758 non-null   float64\n",
            " 2   type       6871 non-null   object \n",
            " 3   country    6839 non-null   object \n",
            " 4   area       6409 non-null   object \n",
            " 5   location   6325 non-null   object \n",
            " 6   activity   6304 non-null   object \n",
            " 7   name       6670 non-null   object \n",
            " 8   sex        6318 non-null   object \n",
            " 9   age        3903 non-null   object \n",
            " 10  fatal_y_n  6890 non-null   object \n",
            " 11  time       3372 non-null   object \n",
            " 12  species    3772 non-null   object \n",
            "dtypes: float64(1), object(12)\n",
            "memory usage: 699.9+ KB\n",
            "None\n",
            "\n",
            "Описательная статистика:\n",
            "              date         year        type country     area  \\\n",
            "count         6587  6758.000000        6871    6839     6409   \n",
            "unique        5558          NaN          11     215      862   \n",
            "top     1957-01-01          NaN  Unprovoked     USA  Florida   \n",
            "freq            11          NaN        5065    2522     1174   \n",
            "mean           NaN  1970.935928         NaN     NaN      NaN   \n",
            "std            NaN    56.227881         NaN     NaN      NaN   \n",
            "min            NaN     1.000000         NaN     NaN      NaN   \n",
            "25%            NaN  1950.000000         NaN     NaN      NaN   \n",
            "50%            NaN  1986.000000         NaN     NaN      NaN   \n",
            "75%            NaN  2009.000000         NaN     NaN      NaN   \n",
            "max            NaN  2023.000000         NaN     NaN      NaN   \n",
            "\n",
            "                                location activity  name   sex   age fatal_y_n  \\\n",
            "count                               6325     6304  6670  6318  3903      6890   \n",
            "unique                              4427     1553  5638     6   232         9   \n",
            "top     New Smyrna Beach, Volusia County  Surfing  male     M  16.0         N   \n",
            "freq                                 192     1112   669  5545    89      4804   \n",
            "mean                                 NaN      NaN   NaN   NaN   NaN       NaN   \n",
            "std                                  NaN      NaN   NaN   NaN   NaN       NaN   \n",
            "min                                  NaN      NaN   NaN   NaN   NaN       NaN   \n",
            "25%                                  NaN      NaN   NaN   NaN   NaN       NaN   \n",
            "50%                                  NaN      NaN   NaN   NaN   NaN       NaN   \n",
            "75%                                  NaN      NaN   NaN   NaN   NaN       NaN   \n",
            "max                                  NaN      NaN   NaN   NaN   NaN       NaN   \n",
            "\n",
            "             time      species  \n",
            "count        3372         3772  \n",
            "unique        397         1560  \n",
            "top     Afternoon  White shark  \n",
            "freq          215          192  \n",
            "mean          NaN          NaN  \n",
            "std           NaN          NaN  \n",
            "min           NaN          NaN  \n",
            "25%           NaN          NaN  \n",
            "50%           NaN          NaN  \n",
            "75%           NaN          NaN  \n",
            "max           NaN          NaN  \n"
          ]
        }
      ]
    },
    {
      "cell_type": "code",
      "source": [
        "# Предобработка данных\n",
        "# Удаление строк с пропущенными значениями в целевой переменной\n",
        "# Предположим, что целевая переменная - 'age'\n",
        "data = pd.read_csv('/content/drive/MyDrive/Project/Data Science/HW5/global_shark_attacks.csv', encoding='latin1')\n",
        "data = data.dropna(subset=['age'])"
      ],
      "metadata": {
        "id": "Qb9j0fQ3jQQc"
      },
      "execution_count": 7,
      "outputs": []
    },
    {
      "cell_type": "code",
      "source": [
        " #Функция для преобразования строкового возраста в числовой\n",
        "def clean_age(age):\n",
        "    if pd.isna(age):\n",
        "        return np.nan\n",
        "    if isinstance(age, (int, float)):\n",
        "        return float(age)\n",
        "\n",
        "    # Удаляем все нечисловые символы (кроме точки и минуса)\n",
        "    cleaned = re.sub(r'[^\\d.-]', '', str(age))\n",
        "    try:\n",
        "        return float(cleaned) if cleaned else np.nan\n",
        "    except:\n",
        "        return np.nan\n",
        "\n",
        "# Применяем функцию очистки к столбцу age\n",
        "if 'age' in data.columns:\n",
        "    data['age'] = data['age'].apply(clean_age)\n",
        "    data = data.dropna(subset=['age'])\n",
        "else:\n",
        "    raise ValueError(\"Столбец 'age' не найден в данных.\")\n"
      ],
      "metadata": {
        "id": "JRLSEVfyvYQX"
      },
      "execution_count": 8,
      "outputs": []
    },
    {
      "cell_type": "code",
      "source": [
        "# Пример: используем 'year' и 'fatal_y_n' для предсказания 'age'\n",
        "X = data[['year', 'fatal_y_n']]\n",
        "y = data['age']"
      ],
      "metadata": {
        "id": "t2fmwgAqp3TO"
      },
      "execution_count": 9,
      "outputs": []
    },
    {
      "cell_type": "code",
      "source": [
        "# Кодирование категориальных признаков и масштабирование числовых\n",
        "numeric_features = ['year']\n",
        "numeric_transformer = Pipeline(steps=[('scaler', StandardScaler())])\n",
        "\n",
        "categorical_features = ['fatal_y_n']\n",
        "categorical_transformer = Pipeline(steps=[('onehot', OneHotEncoder(handle_unknown='ignore'))])\n",
        "\n",
        "preprocessor = ColumnTransformer(\n",
        "    transformers=[\n",
        "        ('num', numeric_transformer, numeric_features),\n",
        "        ('cat', categorical_transformer, categorical_features)])"
      ],
      "metadata": {
        "id": "N62ttYLnp70u"
      },
      "execution_count": 10,
      "outputs": []
    },
    {
      "cell_type": "code",
      "source": [
        "# Разделение данных\n",
        "X_train, X_test, y_train, y_test = train_test_split(X, y, test_size=0.2, random_state=42)"
      ],
      "metadata": {
        "id": "UMKj18NIrIbi"
      },
      "execution_count": 11,
      "outputs": []
    },
    {
      "cell_type": "code",
      "source": [
        "# Список моделей для сравнения\n",
        "models = {\n",
        "    'Gradient Boosting': GradientBoostingRegressor(random_state=42),\n",
        "    'LGBM': LGBMRegressor(random_state=42),\n",
        "    'XGBoost': XGBRegressor(random_state=42),\n",
        "    'Extra Trees': ExtraTreesRegressor(random_state=42),\n",
        "    'Random Forest': RandomForestRegressor(random_state=42),\n",
        "    'CatBoost': CatBoostRegressor(random_state=42, verbose=0),\n",
        "    'AdaBoost': AdaBoostRegressor(random_state=42),\n",
        "    'Lasso': Lasso(random_state=42),\n",
        "    'Ridge': Ridge(random_state=42),\n",
        "    'Bayesian Ridge': BayesianRidge(),\n",
        "    'Linear Regression': LinearRegression(),\n",
        "    'Huber Regressor': HuberRegressor(),\n",
        "    'Decision Tree': DecisionTreeRegressor(random_state=42),\n",
        "    'Orthogonal Matching Pursuit': OrthogonalMatchingPursuit(),\n",
        "    'Passive Aggressive Regressor': PassiveAggressiveRegressor(random_state=42),\n",
        "    'KNN': KNeighborsRegressor(),\n",
        "    'Dummy Regressor': DummyRegressor(),\n",
        "    'Elastic Net': ElasticNet(random_state=42),\n",
        "}\n"
      ],
      "metadata": {
        "id": "hP6KDw_NrmTo"
      },
      "execution_count": 12,
      "outputs": []
    },
    {
      "cell_type": "code",
      "source": [
        "# Ансамбль моделей\n",
        "ensemble = VotingRegressor(estimators=[\n",
        "    ('gb', GradientBoostingRegressor(random_state=42)),\n",
        "    ('rf', RandomForestRegressor(random_state=42)),\n",
        "    ('xgb', XGBRegressor(random_state=42))\n",
        "])\n",
        "models['Ensemble'] = ensemble"
      ],
      "metadata": {
        "id": "CgtPBG_Trt-a"
      },
      "execution_count": 13,
      "outputs": []
    },
    {
      "cell_type": "code",
      "source": [
        "# Обучение и оценка моделей\n",
        "results = []\n",
        "for name, model in models.items():\n",
        "    try:\n",
        "        pipeline = Pipeline(steps=[('preprocessor', preprocessor),\n",
        "                                  ('regressor', model)])\n",
        "        pipeline.fit(X_train, y_train)\n",
        "        y_pred = pipeline.predict(X_test)\n",
        "        mse = mean_squared_error(y_test, y_pred)\n",
        "        r2 = r2_score(y_test, y_pred)\n",
        "        results.append({'Model': name, 'MSE': mse, 'R2': r2})\n",
        "    except Exception as e:\n",
        "        print(f\"Ошибка в модели {name}: {e}\")\n",
        "        results.append({'Model': name, 'MSE': np.nan, 'R2': np.nan})\n",
        "\n",
        "# Создание DataFrame с результатами\n",
        "results_df = pd.DataFrame(results)\n",
        "results_df = results_df.sort_values(by='R2', ascending=False)\n",
        "\n",
        "# Вывод результатов\n",
        "print(results_df)"
      ],
      "metadata": {
        "colab": {
          "base_uri": "https://localhost:8080/"
        },
        "id": "JeemgKw8ryb8",
        "outputId": "19c71de9-6492-48e9-9c91-461e2d866e01"
      },
      "execution_count": 16,
      "outputs": [
        {
          "output_type": "stream",
          "name": "stdout",
          "text": [
            "Ошибка в модели Gradient Boosting: Input X contains NaN.\n",
            "GradientBoostingRegressor does not accept missing values encoded as NaN natively. For supervised learning, you might want to consider sklearn.ensemble.HistGradientBoostingClassifier and Regressor which accept missing values encoded as NaNs natively. Alternatively, it is possible to preprocess the data, for instance by using an imputer transformer in a pipeline or drop samples with missing values. See https://scikit-learn.org/stable/modules/impute.html You can find a list of all estimators that handle NaN values at the following page: https://scikit-learn.org/stable/modules/impute.html#estimators-that-handle-nan-values\n",
            "[LightGBM] [Info] Auto-choosing row-wise multi-threading, the overhead of testing was 0.000389 seconds.\n",
            "You can set `force_row_wise=true` to remove the overhead.\n",
            "And if memory is not enough, you can set `force_col_wise=true`.\n",
            "[LightGBM] [Info] Total Bins 121\n",
            "[LightGBM] [Info] Number of data points in the train set: 3096, number of used features: 4\n",
            "[LightGBM] [Info] Start training from score 1217059.403530\n",
            "Ошибка в модели AdaBoost: Input X contains NaN.\n",
            "AdaBoostRegressor does not accept missing values encoded as NaN natively. For supervised learning, you might want to consider sklearn.ensemble.HistGradientBoostingClassifier and Regressor which accept missing values encoded as NaNs natively. Alternatively, it is possible to preprocess the data, for instance by using an imputer transformer in a pipeline or drop samples with missing values. See https://scikit-learn.org/stable/modules/impute.html You can find a list of all estimators that handle NaN values at the following page: https://scikit-learn.org/stable/modules/impute.html#estimators-that-handle-nan-values\n",
            "Ошибка в модели Lasso: Input X contains NaN.\n",
            "Lasso does not accept missing values encoded as NaN natively. For supervised learning, you might want to consider sklearn.ensemble.HistGradientBoostingClassifier and Regressor which accept missing values encoded as NaNs natively. Alternatively, it is possible to preprocess the data, for instance by using an imputer transformer in a pipeline or drop samples with missing values. See https://scikit-learn.org/stable/modules/impute.html You can find a list of all estimators that handle NaN values at the following page: https://scikit-learn.org/stable/modules/impute.html#estimators-that-handle-nan-values\n",
            "Ошибка в модели Ridge: Input X contains NaN.\n",
            "Ridge does not accept missing values encoded as NaN natively. For supervised learning, you might want to consider sklearn.ensemble.HistGradientBoostingClassifier and Regressor which accept missing values encoded as NaNs natively. Alternatively, it is possible to preprocess the data, for instance by using an imputer transformer in a pipeline or drop samples with missing values. See https://scikit-learn.org/stable/modules/impute.html You can find a list of all estimators that handle NaN values at the following page: https://scikit-learn.org/stable/modules/impute.html#estimators-that-handle-nan-values\n",
            "Ошибка в модели Bayesian Ridge: Input X contains NaN.\n",
            "BayesianRidge does not accept missing values encoded as NaN natively. For supervised learning, you might want to consider sklearn.ensemble.HistGradientBoostingClassifier and Regressor which accept missing values encoded as NaNs natively. Alternatively, it is possible to preprocess the data, for instance by using an imputer transformer in a pipeline or drop samples with missing values. See https://scikit-learn.org/stable/modules/impute.html You can find a list of all estimators that handle NaN values at the following page: https://scikit-learn.org/stable/modules/impute.html#estimators-that-handle-nan-values\n",
            "Ошибка в модели Linear Regression: Input X contains NaN.\n",
            "LinearRegression does not accept missing values encoded as NaN natively. For supervised learning, you might want to consider sklearn.ensemble.HistGradientBoostingClassifier and Regressor which accept missing values encoded as NaNs natively. Alternatively, it is possible to preprocess the data, for instance by using an imputer transformer in a pipeline or drop samples with missing values. See https://scikit-learn.org/stable/modules/impute.html You can find a list of all estimators that handle NaN values at the following page: https://scikit-learn.org/stable/modules/impute.html#estimators-that-handle-nan-values\n",
            "Ошибка в модели Huber Regressor: Input X contains NaN.\n",
            "HuberRegressor does not accept missing values encoded as NaN natively. For supervised learning, you might want to consider sklearn.ensemble.HistGradientBoostingClassifier and Regressor which accept missing values encoded as NaNs natively. Alternatively, it is possible to preprocess the data, for instance by using an imputer transformer in a pipeline or drop samples with missing values. See https://scikit-learn.org/stable/modules/impute.html You can find a list of all estimators that handle NaN values at the following page: https://scikit-learn.org/stable/modules/impute.html#estimators-that-handle-nan-values\n",
            "Ошибка в модели Orthogonal Matching Pursuit: Input X contains NaN.\n",
            "OrthogonalMatchingPursuit does not accept missing values encoded as NaN natively. For supervised learning, you might want to consider sklearn.ensemble.HistGradientBoostingClassifier and Regressor which accept missing values encoded as NaNs natively. Alternatively, it is possible to preprocess the data, for instance by using an imputer transformer in a pipeline or drop samples with missing values. See https://scikit-learn.org/stable/modules/impute.html You can find a list of all estimators that handle NaN values at the following page: https://scikit-learn.org/stable/modules/impute.html#estimators-that-handle-nan-values\n",
            "Ошибка в модели Passive Aggressive Regressor: Input X contains NaN.\n",
            "PassiveAggressiveRegressor does not accept missing values encoded as NaN natively. For supervised learning, you might want to consider sklearn.ensemble.HistGradientBoostingClassifier and Regressor which accept missing values encoded as NaNs natively. Alternatively, it is possible to preprocess the data, for instance by using an imputer transformer in a pipeline or drop samples with missing values. See https://scikit-learn.org/stable/modules/impute.html You can find a list of all estimators that handle NaN values at the following page: https://scikit-learn.org/stable/modules/impute.html#estimators-that-handle-nan-values\n",
            "Ошибка в модели KNN: Input X contains NaN.\n",
            "KNeighborsRegressor does not accept missing values encoded as NaN natively. For supervised learning, you might want to consider sklearn.ensemble.HistGradientBoostingClassifier and Regressor which accept missing values encoded as NaNs natively. Alternatively, it is possible to preprocess the data, for instance by using an imputer transformer in a pipeline or drop samples with missing values. See https://scikit-learn.org/stable/modules/impute.html You can find a list of all estimators that handle NaN values at the following page: https://scikit-learn.org/stable/modules/impute.html#estimators-that-handle-nan-values\n",
            "Ошибка в модели Elastic Net: Input X contains NaN.\n",
            "ElasticNet does not accept missing values encoded as NaN natively. For supervised learning, you might want to consider sklearn.ensemble.HistGradientBoostingClassifier and Regressor which accept missing values encoded as NaNs natively. Alternatively, it is possible to preprocess the data, for instance by using an imputer transformer in a pipeline or drop samples with missing values. See https://scikit-learn.org/stable/modules/impute.html You can find a list of all estimators that handle NaN values at the following page: https://scikit-learn.org/stable/modules/impute.html#estimators-that-handle-nan-values\n",
            "Ошибка в модели Ensemble: Input X contains NaN.\n",
            "GradientBoostingRegressor does not accept missing values encoded as NaN natively. For supervised learning, you might want to consider sklearn.ensemble.HistGradientBoostingClassifier and Regressor which accept missing values encoded as NaNs natively. Alternatively, it is possible to preprocess the data, for instance by using an imputer transformer in a pipeline or drop samples with missing values. See https://scikit-learn.org/stable/modules/impute.html You can find a list of all estimators that handle NaN values at the following page: https://scikit-learn.org/stable/modules/impute.html#estimators-that-handle-nan-values\n",
            "                           Model           MSE           R2\n",
            "16               Dummy Regressor  2.001831e+12    -2.410387\n",
            "1                           LGBM  7.571821e+14 -1288.961298\n",
            "4                  Random Forest  1.831465e+15 -3119.147036\n",
            "5                       CatBoost  2.237504e+15 -3810.887665\n",
            "2                        XGBoost  2.237899e+15 -3811.560525\n",
            "12                 Decision Tree  2.237899e+15 -3811.561088\n",
            "3                    Extra Trees  2.237899e+15 -3811.561088\n",
            "0              Gradient Boosting           NaN          NaN\n",
            "6                       AdaBoost           NaN          NaN\n",
            "7                          Lasso           NaN          NaN\n",
            "8                          Ridge           NaN          NaN\n",
            "9                 Bayesian Ridge           NaN          NaN\n",
            "10             Linear Regression           NaN          NaN\n",
            "11               Huber Regressor           NaN          NaN\n",
            "13   Orthogonal Matching Pursuit           NaN          NaN\n",
            "14  Passive Aggressive Regressor           NaN          NaN\n",
            "15                           KNN           NaN          NaN\n",
            "17                   Elastic Net           NaN          NaN\n",
            "18                      Ensemble           NaN          NaN\n"
          ]
        }
      ]
    },
    {
      "cell_type": "code",
      "source": [
        "# Удаление строк с NaN\n",
        "X_train = X_train.dropna()\n",
        "y_train = y_train[X_train.index]\n",
        "\n",
        "X_test = X_test.dropna()\n",
        "y_test = y_test[X_test.index]"
      ],
      "metadata": {
        "id": "SJj5ZDdesDWH"
      },
      "execution_count": 18,
      "outputs": []
    },
    {
      "cell_type": "code",
      "source": [
        "# Обучение и оценка моделей\n",
        "results = []\n",
        "for name, model in models.items():\n",
        "    try:\n",
        "        pipeline = Pipeline(steps=[('preprocessor', preprocessor),\n",
        "                                  ('regressor', model)])\n",
        "        pipeline.fit(X_train, y_train)\n",
        "        y_pred = pipeline.predict(X_test)\n",
        "        mse = mean_squared_error(y_test, y_pred)\n",
        "        r2 = r2_score(y_test, y_pred)\n",
        "        results.append({'Model': name, 'MSE': mse, 'R2': r2})\n",
        "    except Exception as e:\n",
        "        print(f\"Ошибка в модели {name}: {e}\")\n",
        "        results.append({'Model': name, 'MSE': np.nan, 'R2': np.nan})\n",
        "\n",
        "# Создание DataFrame с результатами\n",
        "results_df = pd.DataFrame(results)\n",
        "results_df = results_df.sort_values(by='R2', ascending=False)\n",
        "\n",
        "# Вывод результатов\n",
        "print(results_df)"
      ],
      "metadata": {
        "colab": {
          "base_uri": "https://localhost:8080/"
        },
        "id": "P1VyQ60KsfuH",
        "outputId": "f8329bf7-e7bb-4fef-e67d-a3ae62c1ef0b"
      },
      "execution_count": 19,
      "outputs": [
        {
          "output_type": "stream",
          "name": "stdout",
          "text": [
            "[LightGBM] [Info] Auto-choosing col-wise multi-threading, the overhead of testing was 0.000269 seconds.\n",
            "You can set `force_col_wise=true` to remove the overhead.\n",
            "[LightGBM] [Info] Total Bins 120\n",
            "[LightGBM] [Info] Number of data points in the train set: 3084, number of used features: 4\n",
            "[LightGBM] [Info] Start training from score 1221794.541936\n",
            "                           Model           MSE           R2\n",
            "6                       AdaBoost  5.900227e+11    -0.001297\n",
            "11               Huber Regressor  5.900239e+11    -0.001299\n",
            "14  Passive Aggressive Regressor  5.900244e+11    -0.001300\n",
            "9                 Bayesian Ridge  2.015140e+12    -2.419790\n",
            "16               Dummy Regressor  2.015140e+12    -2.419790\n",
            "17                   Elastic Net  2.968726e+12    -4.038071\n",
            "8                          Ridge  3.086675e+13   -51.382363\n",
            "10             Linear Regression  3.110507e+13   -51.786791\n",
            "7                          Lasso  3.110862e+13   -51.792826\n",
            "13   Orthogonal Matching Pursuit  3.115695e+13   -51.874835\n",
            "1                           LGBM  7.590211e+14 -1287.095272\n",
            "15                           KNN  1.429701e+15 -2425.271904\n",
            "4                  Random Forest  2.069893e+15 -3511.708344\n",
            "18                      Ensemble  2.186851e+15 -3710.190763\n",
            "5                       CatBoost  2.246304e+15 -3811.084971\n",
            "0              Gradient Boosting  2.246475e+15 -3811.375693\n",
            "2                        XGBoost  2.246595e+15 -3811.579691\n",
            "12                 Decision Tree  2.246595e+15 -3811.580254\n",
            "3                    Extra Trees  2.246595e+15 -3811.580254\n"
          ]
        }
      ]
    },
    {
      "cell_type": "markdown",
      "source": [
        "В датасете присутствуют значения например, 2023.0, 2022.0  которые используются как целевая переменная для регрессии. Однако предсказание года атаки акулы не имеет практического смысла, так как это временная метка, а не числовая характеристика. Это приводит к абсурдно высоким значениям MSE и отрицательным R2 что указывает на полную неадекватность моделей.\n",
        "Регрессия для предсказания года не подходит для этого датасета."
      ],
      "metadata": {
        "id": "aZI0YdmSuquO"
      }
    },
    {
      "cell_type": "markdown",
      "source": [
        "Попробуем другой датасет"
      ],
      "metadata": {
        "id": "tOSxVoVHylk4"
      }
    },
    {
      "cell_type": "code",
      "source": [
        "import kagglehub\n",
        "from sklearn.neighbors import KNeighborsRegressor\n",
        "from sklearn.svm import SVR\n",
        "from sklearn.metrics import mean_squared_error, mean_absolute_error, r2_score"
      ],
      "metadata": {
        "id": "S3bvyQkCyrcN"
      },
      "execution_count": 61,
      "outputs": []
    },
    {
      "cell_type": "code",
      "source": [
        "path = kagglehub.dataset_download(\"loveall/appliances-energy-prediction\")\n",
        "\n",
        "print(\"Path to dataset files:\", path)"
      ],
      "metadata": {
        "colab": {
          "base_uri": "https://localhost:8080/"
        },
        "id": "Wx_pT7jHyvu3",
        "outputId": "cadfa81f-4cc3-42c7-fc71-b7056439b0e0"
      },
      "execution_count": 63,
      "outputs": [
        {
          "output_type": "stream",
          "name": "stdout",
          "text": [
            "Path to dataset files: /kaggle/input/appliances-energy-prediction\n"
          ]
        }
      ]
    },
    {
      "cell_type": "code",
      "source": [
        "# Загрузка датасета\n",
        "data = pd.read_csv('/content/drive/MyDrive/Project/Data Science/HW5/KAG_energydata_complete.csv', encoding='latin1')"
      ],
      "metadata": {
        "id": "w56Fe61OzpSZ"
      },
      "execution_count": 64,
      "outputs": []
    },
    {
      "cell_type": "code",
      "source": [
        "# Удаление ненужных столбцов (дата и время)\n",
        "data = data.drop(columns=[\"date\"])"
      ],
      "metadata": {
        "id": "20geHgjA0aAk"
      },
      "execution_count": 65,
      "outputs": []
    },
    {
      "cell_type": "code",
      "source": [
        "# Разделение на признаки (X) и целевую переменную (y)\n",
        "X = data.drop(columns=[\"Appliances\"])  # Все колонки, кроме целевой\n",
        "y = data[\"Appliances\"]  # Целевая переменная — энергопотребление"
      ],
      "metadata": {
        "id": "tZuK6po_0d5Z"
      },
      "execution_count": 66,
      "outputs": []
    },
    {
      "cell_type": "code",
      "source": [
        "# Разделение на обучающую и тестовую выборки (80/20)\n",
        "X_train, X_test, y_train, y_test = train_test_split(X, y, test_size=0.2, random_state=42)"
      ],
      "metadata": {
        "id": "XEBgHvju0ijB"
      },
      "execution_count": 67,
      "outputs": []
    },
    {
      "cell_type": "code",
      "source": [
        "# Масштабирование\n",
        "scaler = StandardScaler()\n",
        "X_train_scaled = scaler.fit_transform(X_train)\n",
        "X_test_scaled = scaler.transform(X_test)"
      ],
      "metadata": {
        "id": "Z1B5kqaC0oiE"
      },
      "execution_count": 68,
      "outputs": []
    },
    {
      "cell_type": "code",
      "source": [
        "# Инициализация моделей\n",
        "models = {\n",
        "    \"Linear Regression\": LinearRegression(),\n",
        "    \"Random Forest\": RandomForestRegressor(n_estimators=100, random_state=42),\n",
        "    \"Gradient Boosting\": GradientBoostingRegressor(random_state=42),\n",
        "    \"K-Nearest Neighbors\": KNeighborsRegressor(n_neighbors=5),\n",
        "    \"Support Vector Machine\": SVR(kernel=\"rbf\", C=1.0)\n",
        "}\n"
      ],
      "metadata": {
        "id": "7X1rU0NP0yGg"
      },
      "execution_count": 59,
      "outputs": []
    },
    {
      "cell_type": "code",
      "source": [
        "# Сравнение моделей\n",
        "results = []\n",
        "for name, model in models.items():\n",
        "    model.fit(X_train_scaled, y_train)\n",
        "    y_pred = model.predict(X_test_scaled)\n",
        "\n",
        "    mse = mean_squared_error(y_test, y_pred)\n",
        "    rmse = np.sqrt(mse)  # Вычисляем RMSE вручную\n",
        "    mae = mean_absolute_error(y_test, y_pred)\n",
        "    r2 = r2_score(y_test, y_pred)\n",
        "\n",
        "    results.append({\n",
        "        \"Model\": name,\n",
        "        \"MSE\": round(mse, 2),\n",
        "        \"RMSE\": round(rmse, 2),\n",
        "        \"MAE\": round(mae, 2),\n",
        "        \"R2\": round(r2, 4)\n",
        "    })"
      ],
      "metadata": {
        "id": "67PUZakv1LlL"
      },
      "execution_count": 69,
      "outputs": []
    },
    {
      "cell_type": "code",
      "source": [
        "# Результаты в виде таблицы\n",
        "results_df = pd.DataFrame(results)\n",
        "print(results_df.sort_values(by=\"R2\", ascending=False))"
      ],
      "metadata": {
        "colab": {
          "base_uri": "https://localhost:8080/"
        },
        "id": "p3Sp1Fad1xGF",
        "outputId": "ad30ce8a-b1a5-46a6-bb47-d453738c3d38"
      },
      "execution_count": 70,
      "outputs": [
        {
          "output_type": "stream",
          "name": "stdout",
          "text": [
            "                    Model      MSE   RMSE    MAE      R2\n",
            "1           Random Forest  4674.46  68.37  32.90  0.5329\n",
            "3     K-Nearest Neighbors  6617.24  81.35  38.89  0.3387\n",
            "2       Gradient Boosting  7402.28  86.04  47.21  0.2603\n",
            "0       Linear Regression  8312.85  91.17  52.55  0.1693\n",
            "4  Support Vector Machine  9734.04  98.66  42.30  0.0273\n"
          ]
        }
      ]
    },
    {
      "cell_type": "markdown",
      "source": [
        "Для наглядности добавим график сравнения моделей по R²:"
      ],
      "metadata": {
        "id": "ZwrcoDjW13n2"
      }
    },
    {
      "cell_type": "code",
      "source": [
        "import matplotlib.pyplot as plt\n",
        "import seaborn as sns"
      ],
      "metadata": {
        "id": "GT-mLuog18M8"
      },
      "execution_count": 71,
      "outputs": []
    },
    {
      "cell_type": "code",
      "source": [
        "# Сортировка по R2\n",
        "results_df = results_df.sort_values(by=\"R2\", ascending=False)"
      ],
      "metadata": {
        "id": "vo6Pfs442AjP"
      },
      "execution_count": 72,
      "outputs": []
    },
    {
      "cell_type": "code",
      "source": [
        "# График\n",
        "plt.figure(figsize=(10, 6))\n",
        "sns.barplot(x=\"R2\", y=\"Model\", data=results_df, palette=\"viridis\")\n",
        "plt.title(\"Сравнение регрессоров по метрике R²\")\n",
        "plt.xlabel(\"R² Score\")\n",
        "plt.ylabel(\"Model\")\n",
        "plt.show()"
      ],
      "metadata": {
        "colab": {
          "base_uri": "https://localhost:8080/",
          "height": 564
        },
        "id": "_iy02asd2Epn",
        "outputId": "3f142840-38bc-49d3-f02d-dc26e8be04f3"
      },
      "execution_count": 73,
      "outputs": [
        {
          "output_type": "display_data",
          "data": {
            "text/plain": [
              "<Figure size 1000x600 with 1 Axes>"
            ],
            "image/png": "[encoded data removed]"
          },
          "metadata": {}
        }
      ]
    },
    {
      "cell_type": "markdown",
      "source": [
        "Random Forest показал себя как наиболее эффективная модель для данного набора данных.\n",
        "SVM показала наихудшие результаты, возможно, не подходит для данной задачи."
      ],
      "metadata": {
        "id": "ipM7DNjm9VfB"
      }
    }
  ]
}